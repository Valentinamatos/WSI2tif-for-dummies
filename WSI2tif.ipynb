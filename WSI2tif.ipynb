{
 "cells": [
  {
   "cell_type": "code",
   "execution_count": null,
   "id": "initial_id",
   "metadata": {
    "collapsed": true
   },
   "outputs": [],
   "source": [
    "from base import *"
   ]
  },
  {
   "cell_type": "code",
   "outputs": [],
   "source": [
    "# Inputs\n",
    "\n",
    "path = r'Put your path here' # Path to the folder containing the WSI\n",
    "\n",
    "# ______ 8um = 1.25x #4um = 2.5x, #2um=5x, 1um=10x, 0.5um=20x, 0.25um=40x _____\n",
    "resolutions = ['10x', '5x', '1x'] # Resolutions to be used\n",
    "umpix_list = [1, 2, 4] # Corresponding um per pixel"
   ],
   "metadata": {
    "collapsed": false
   },
   "id": "b4bb6a0310b26619"
  },
  {
   "cell_type": "code",
   "outputs": [],
   "source": [
    "WSI2tif(path, resolutions, umpix_list)"
   ],
   "metadata": {
    "collapsed": false
   },
   "id": "67c207eac52a781c"
  }
 ],
 "metadata": {
  "kernelspec": {
   "display_name": "Python 3",
   "language": "python",
   "name": "python3"
  },
  "language_info": {
   "codemirror_mode": {
    "name": "ipython",
    "version": 2
   },
   "file_extension": ".py",
   "mimetype": "text/x-python",
   "name": "python",
   "nbconvert_exporter": "python",
   "pygments_lexer": "ipython2",
   "version": "2.7.6"
  }
 },
 "nbformat": 4,
 "nbformat_minor": 5
}
